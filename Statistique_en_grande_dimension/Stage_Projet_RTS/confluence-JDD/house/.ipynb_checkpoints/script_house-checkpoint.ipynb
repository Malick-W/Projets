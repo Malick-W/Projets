{
 "cells": [
  {
   "cell_type": "markdown",
   "metadata": {},
   "source": [
    "# Préparation des données"
   ]
  },
  {
   "cell_type": "code",
   "execution_count": 8,
   "metadata": {},
   "outputs": [],
   "source": [
    "from mpl_toolkits.mplot3d import Axes3D\n",
    "from sklearn.preprocessing import StandardScaler\n",
    "import matplotlib.pyplot as plt # plotting\n",
    "import numpy as np # linear algebra\n",
    "import os # accessing directory structure\n",
    "import pandas as pd # data processing, CSV file I/O (e.g. pd.read_csv)\n",
    "\n",
    "import xgboost\n",
    "import math\n",
    "\n",
    "from time import time\n",
    "from scipy.stats import pearsonr\n",
    "from sklearn.linear_model import LinearRegression\n",
    "from sklearn import tree, linear_model\n",
    "from sklearn.model_selection import train_test_split, ShuffleSplit\n",
    "from sklearn.metrics import explained_variance_score, r2_score"
   ]
  },
  {
   "cell_type": "code",
   "execution_count": 9,
   "metadata": {},
   "outputs": [],
   "source": [
    "file = \"/home/malick/Bureau/Stage_Projet_RTS/confluence-JDD/house/data/house_data.csv\"\n",
    "df = pd.read_csv(file)"
   ]
  },
  {
   "cell_type": "code",
   "execution_count": 10,
   "metadata": {},
   "outputs": [
    {
     "name": "stdout",
     "output_type": "stream",
     "text": [
      "<class 'pandas.core.frame.DataFrame'>\n",
      "RangeIndex: 21613 entries, 0 to 21612\n",
      "Data columns (total 21 columns):\n",
      "id               21613 non-null int64\n",
      "date             21613 non-null object\n",
      "price            21613 non-null float64\n",
      "bedrooms         21613 non-null int64\n",
      "bathrooms        21613 non-null float64\n",
      "sqft_living      21613 non-null int64\n",
      "sqft_lot         21613 non-null int64\n",
      "floors           21613 non-null float64\n",
      "waterfront       21613 non-null int64\n",
      "view             21613 non-null int64\n",
      "condition        21613 non-null int64\n",
      "grade            21613 non-null int64\n",
      "sqft_above       21613 non-null int64\n",
      "sqft_basement    21613 non-null int64\n",
      "yr_built         21613 non-null int64\n",
      "yr_renovated     21613 non-null int64\n",
      "zipcode          21613 non-null int64\n",
      "lat              21613 non-null float64\n",
      "long             21613 non-null float64\n",
      "sqft_living15    21613 non-null int64\n",
      "sqft_lot15       21613 non-null int64\n",
      "dtypes: float64(5), int64(15), object(1)\n",
      "memory usage: 3.5+ MB\n",
      "None\n"
     ]
    }
   ],
   "source": [
    "print(df.info())"
   ]
  },
  {
   "cell_type": "code",
   "execution_count": 11,
   "metadata": {},
   "outputs": [
    {
     "data": {
      "text/html": [
       "<div>\n",
       "<style scoped>\n",
       "    .dataframe tbody tr th:only-of-type {\n",
       "        vertical-align: middle;\n",
       "    }\n",
       "\n",
       "    .dataframe tbody tr th {\n",
       "        vertical-align: top;\n",
       "    }\n",
       "\n",
       "    .dataframe thead th {\n",
       "        text-align: right;\n",
       "    }\n",
       "</style>\n",
       "<table border=\"1\" class=\"dataframe\">\n",
       "  <thead>\n",
       "    <tr style=\"text-align: right;\">\n",
       "      <th></th>\n",
       "      <th>price</th>\n",
       "      <th>bedrooms</th>\n",
       "      <th>bathrooms</th>\n",
       "      <th>sqft_living</th>\n",
       "      <th>sqft_lot</th>\n",
       "      <th>floors</th>\n",
       "      <th>waterfront</th>\n",
       "      <th>view</th>\n",
       "      <th>condition</th>\n",
       "      <th>grade</th>\n",
       "      <th>sqft_above</th>\n",
       "      <th>sqft_basement</th>\n",
       "      <th>yr_built</th>\n",
       "      <th>yr_renovated</th>\n",
       "      <th>zipcode</th>\n",
       "      <th>lat</th>\n",
       "      <th>long</th>\n",
       "      <th>sqft_living15</th>\n",
       "      <th>sqft_lot15</th>\n",
       "    </tr>\n",
       "  </thead>\n",
       "  <tbody>\n",
       "    <tr>\n",
       "      <th>0</th>\n",
       "      <td>221900.0</td>\n",
       "      <td>3</td>\n",
       "      <td>1.00</td>\n",
       "      <td>1180</td>\n",
       "      <td>5650</td>\n",
       "      <td>1.0</td>\n",
       "      <td>0</td>\n",
       "      <td>0</td>\n",
       "      <td>3</td>\n",
       "      <td>7</td>\n",
       "      <td>1180</td>\n",
       "      <td>0</td>\n",
       "      <td>1955</td>\n",
       "      <td>0</td>\n",
       "      <td>98178</td>\n",
       "      <td>47.5112</td>\n",
       "      <td>-122.257</td>\n",
       "      <td>1340</td>\n",
       "      <td>5650</td>\n",
       "    </tr>\n",
       "    <tr>\n",
       "      <th>1</th>\n",
       "      <td>538000.0</td>\n",
       "      <td>3</td>\n",
       "      <td>2.25</td>\n",
       "      <td>2570</td>\n",
       "      <td>7242</td>\n",
       "      <td>2.0</td>\n",
       "      <td>0</td>\n",
       "      <td>0</td>\n",
       "      <td>3</td>\n",
       "      <td>7</td>\n",
       "      <td>2170</td>\n",
       "      <td>400</td>\n",
       "      <td>1951</td>\n",
       "      <td>1991</td>\n",
       "      <td>98125</td>\n",
       "      <td>47.7210</td>\n",
       "      <td>-122.319</td>\n",
       "      <td>1690</td>\n",
       "      <td>7639</td>\n",
       "    </tr>\n",
       "    <tr>\n",
       "      <th>2</th>\n",
       "      <td>180000.0</td>\n",
       "      <td>2</td>\n",
       "      <td>1.00</td>\n",
       "      <td>770</td>\n",
       "      <td>10000</td>\n",
       "      <td>1.0</td>\n",
       "      <td>0</td>\n",
       "      <td>0</td>\n",
       "      <td>3</td>\n",
       "      <td>6</td>\n",
       "      <td>770</td>\n",
       "      <td>0</td>\n",
       "      <td>1933</td>\n",
       "      <td>0</td>\n",
       "      <td>98028</td>\n",
       "      <td>47.7379</td>\n",
       "      <td>-122.233</td>\n",
       "      <td>2720</td>\n",
       "      <td>8062</td>\n",
       "    </tr>\n",
       "    <tr>\n",
       "      <th>3</th>\n",
       "      <td>604000.0</td>\n",
       "      <td>4</td>\n",
       "      <td>3.00</td>\n",
       "      <td>1960</td>\n",
       "      <td>5000</td>\n",
       "      <td>1.0</td>\n",
       "      <td>0</td>\n",
       "      <td>0</td>\n",
       "      <td>5</td>\n",
       "      <td>7</td>\n",
       "      <td>1050</td>\n",
       "      <td>910</td>\n",
       "      <td>1965</td>\n",
       "      <td>0</td>\n",
       "      <td>98136</td>\n",
       "      <td>47.5208</td>\n",
       "      <td>-122.393</td>\n",
       "      <td>1360</td>\n",
       "      <td>5000</td>\n",
       "    </tr>\n",
       "    <tr>\n",
       "      <th>4</th>\n",
       "      <td>510000.0</td>\n",
       "      <td>3</td>\n",
       "      <td>2.00</td>\n",
       "      <td>1680</td>\n",
       "      <td>8080</td>\n",
       "      <td>1.0</td>\n",
       "      <td>0</td>\n",
       "      <td>0</td>\n",
       "      <td>3</td>\n",
       "      <td>8</td>\n",
       "      <td>1680</td>\n",
       "      <td>0</td>\n",
       "      <td>1987</td>\n",
       "      <td>0</td>\n",
       "      <td>98074</td>\n",
       "      <td>47.6168</td>\n",
       "      <td>-122.045</td>\n",
       "      <td>1800</td>\n",
       "      <td>7503</td>\n",
       "    </tr>\n",
       "  </tbody>\n",
       "</table>\n",
       "</div>"
      ],
      "text/plain": [
       "      price  bedrooms  bathrooms  sqft_living  sqft_lot  floors  waterfront  \\\n",
       "0  221900.0         3       1.00         1180      5650     1.0           0   \n",
       "1  538000.0         3       2.25         2570      7242     2.0           0   \n",
       "2  180000.0         2       1.00          770     10000     1.0           0   \n",
       "3  604000.0         4       3.00         1960      5000     1.0           0   \n",
       "4  510000.0         3       2.00         1680      8080     1.0           0   \n",
       "\n",
       "   view  condition  grade  sqft_above  sqft_basement  yr_built  yr_renovated  \\\n",
       "0     0          3      7        1180              0      1955             0   \n",
       "1     0          3      7        2170            400      1951          1991   \n",
       "2     0          3      6         770              0      1933             0   \n",
       "3     0          5      7        1050            910      1965             0   \n",
       "4     0          3      8        1680              0      1987             0   \n",
       "\n",
       "   zipcode      lat     long  sqft_living15  sqft_lot15  \n",
       "0    98178  47.5112 -122.257           1340        5650  \n",
       "1    98125  47.7210 -122.319           1690        7639  \n",
       "2    98028  47.7379 -122.233           2720        8062  \n",
       "3    98136  47.5208 -122.393           1360        5000  \n",
       "4    98074  47.6168 -122.045           1800        7503  "
      ]
     },
     "execution_count": 11,
     "metadata": {},
     "output_type": "execute_result"
    }
   ],
   "source": [
    "# On enléve la date de vente et l'id\n",
    "df = df.drop([\"id\", \"date\"], axis=1)\n",
    "df.head(5)"
   ]
  },
  {
   "cell_type": "code",
   "execution_count": 12,
   "metadata": {},
   "outputs": [],
   "source": [
    "#On représente les \"Pairplots\" pour visualiser une forte corrélation\n",
    "import seaborn as sns\n",
    "\n",
    "sns.set()\n",
    "\n",
    "cols =  ['price',\n",
    "         'bedrooms',\n",
    "         'bathrooms',\n",
    "         'sqft_living',\n",
    "         'sqft_lot',\n",
    "         'grade',\n",
    "         'sqft_above',\n",
    "         'sqft_basement',\n",
    "         'sqft_living15',\n",
    "         'sqft_lot15']\n",
    "\n",
    "sns_plot = sns.pairplot(df,vars=cols, kind=\"reg\",markers=\"+\", height = 3.5)\n",
    "plt.show();"
   ]
  },
  {
   "cell_type": "code",
   "execution_count": 13,
   "metadata": {},
   "outputs": [],
   "source": [
    "#sns_plot.savefig(\"/home/malick/Bureau/Stage_Projet_RTS/confluence-JDD/house/images/output.png\")"
   ]
  },
  {
   "cell_type": "code",
   "execution_count": 14,
   "metadata": {},
   "outputs": [
    {
     "data": {
      "text/plain": [
       "<matplotlib.axes._subplots.AxesSubplot at 0x7fd5a357f128>"
      ]
     },
     "execution_count": 14,
     "metadata": {},
     "output_type": "execute_result"
    },
    {
     "data": {
      "image/png": "[encoded data removed]",
      "text/plain": [
       "<Figure size 864x432 with 1 Axes>"
      ]
     },
     "metadata": {
      "needs_background": "light"
     },
     "output_type": "display_data"
    }
   ],
   "source": [
    "#Get Correlation of \"Churn\" with other variables:\n",
    "plt.figure(figsize=(12,6))\n",
    "df.corr()['price'].sort_values(ascending = False).plot(kind='bar')"
   ]
  },
  {
   "cell_type": "code",
   "execution_count": 15,
   "metadata": {},
   "outputs": [],
   "source": [
    "#plt.savefig(\"/home/malick/Bureau/Stage_Projet_RTS/confluence-JDD/house/images/corr.png\")"
   ]
  },
  {
   "cell_type": "code",
   "execution_count": 16,
   "metadata": {},
   "outputs": [],
   "source": [
    "X = df.drop([\"price\"], axis=1)\n",
    "y = df.price\n",
    "\n",
    "X_train, X_test, y_train, y_test = train_test_split(X, y ,test_size=0.3)"
   ]
  },
  {
   "cell_type": "markdown",
   "metadata": {},
   "source": [
    "## RandomForestRegressor"
   ]
  },
  {
   "cell_type": "code",
   "execution_count": 17,
   "metadata": {},
   "outputs": [],
   "source": [
    "# from sklearn.ensemble import RandomForestRegressor\n",
    "\n",
    "# rand_regr = RandomForestRegressor(n_estimators=10,random_state=0)\n",
    "\n",
    "# start = time()\n",
    "# rand_regr.fit(X_train, y_train)\n",
    "# end=time()\n",
    "\n",
    "# train_time_rand=end-start\n",
    "\n",
    "# random=rand_regr.score(X_test,y_test)\n",
    "# predictions = rand_regr.predict(X_test)\n",
    "# exp_rand = explained_variance_score(predictions,y_test)"
   ]
  },
  {
   "cell_type": "markdown",
   "metadata": {},
   "source": [
    "# GradientBoostingRegressor"
   ]
  },
  {
   "cell_type": "code",
   "execution_count": 18,
   "metadata": {},
   "outputs": [],
   "source": [
    "# from sklearn.ensemble import GradientBoostingRegressor\n",
    "\n",
    "# start = time()\n",
    "# est=GradientBoostingRegressor(n_estimators=10, max_depth=5, loss='ls',min_samples_split=2,learning_rate=0.1).fit(X_train, y_train)\n",
    "# end=time()\n",
    "# train_time_g=end-start\n",
    "\n",
    "# gradient=est.score(X_test,y_test)\n",
    "# pred = est.predict(X_test)\n",
    "# exp_est = explained_variance_score(pred,y_test)"
   ]
  },
  {
   "cell_type": "markdown",
   "metadata": {},
   "source": [
    "# DecisionTreeRegressor"
   ]
  },
  {
   "cell_type": "code",
   "execution_count": 19,
   "metadata": {},
   "outputs": [],
   "source": [
    "# from sklearn.tree  import DecisionTreeRegressor\n",
    "\n",
    "# decision=DecisionTreeRegressor()\n",
    "\n",
    "# start = time()\n",
    "# decision.fit(X_train, y_train)\n",
    "# end=time()\n",
    "# train_time_dec=end-start\n",
    "\n",
    "# decc=decision.score(X_test,y_test)\n",
    "# decpredict = decision.predict(X_test)\n",
    "# exp_dec = explained_variance_score(decpredict,y_test)"
   ]
  },
  {
   "cell_type": "markdown",
   "metadata": {},
   "source": [
    "# AdaBoostRegressor"
   ]
  },
  {
   "cell_type": "code",
   "execution_count": 20,
   "metadata": {},
   "outputs": [],
   "source": [
    "# from sklearn.ensemble import AdaBoostRegressor\n",
    "\n",
    "# start = time()\n",
    "# ada=AdaBoostRegressor(n_estimators=10, learning_rate=0.2,loss='exponential').fit(X_train, y_train)\n",
    "# end=time()\n",
    "# train_time_ada=end-start\n",
    "\n",
    "# pred=ada.predict(X_test)\n",
    "# adab=ada.score(X_test,y_test)\n",
    "# predict = ada.predict(X_test)\n",
    "# exp_ada = explained_variance_score(predict,y_test)"
   ]
  },
  {
   "cell_type": "code",
   "execution_count": 21,
   "metadata": {},
   "outputs": [],
   "source": [
    "# # Comparing Models on the basis of Model's Accuracy Score and Explained Variance Score of different models\n",
    "# models_cross = pd.DataFrame({\n",
    "#     'Model': ['Gradient Boosting','AdaBoost','Random Forest','Decision Tree'],\n",
    "#     'Score': [gradient,adab,random,decc],\n",
    "#      'Variance Score': [exp_est,exp_ada,exp_rand,exp_dec]})\n",
    "    \n",
    "# models_cross.sort_values(by='Score', ascending=False)"
   ]
  },
  {
   "cell_type": "markdown",
   "metadata": {},
   "source": [
    "ANALYZING TRAINING TIME EACH MODEL HAS TAKEN"
   ]
  },
  {
   "cell_type": "code",
   "execution_count": 22,
   "metadata": {},
   "outputs": [],
   "source": [
    "# model = ['Adaboost', 'GBOOST', 'Random forest','Decision Tree']\n",
    "# Train_Time = [\n",
    "#     train_time_ada,\n",
    "#     train_time_g,\n",
    "#     train_time_rand,\n",
    "#     train_time_dec\n",
    "# ]\n",
    "\n",
    "# index = np.arange(len(model))\n",
    "# plt.bar(index, Train_Time)\n",
    "# plt.xlabel('Machine Learning Models', fontsize=15)\n",
    "# plt.ylabel('Training Time', fontsize=15)\n",
    "# plt.xticks(index, model, fontsize=10, )\n",
    "# plt.title('Comparison of Training Time of all ML models')\n",
    "# #plt.savefig('/home/malick/Bureau/Stage_Projet_RTS/confluence/house/images/output2.png')\n",
    "# plt.show()"
   ]
  },
  {
   "cell_type": "raw",
   "metadata": {},
   "source": [
    "De la figure ci-dessus, on en déduit que Decision Tree a pris un temps négligeable pour s'entraîner là où Random forest a pris un temps maximum et c'est pourtant évident, car au fur et à mesure que nous augmentons le nombre d'arbres 200, le temps de d'entraînement augmentera.\n",
    "On cherchera donc un modèle optimal qui a plus de précision et moins de temps d’entraînement que d’autres. GBoost est le meilleur choix car sa précision est maximale et qu’il prend moins de temps à s'entraîner."
   ]
  },
  {
   "cell_type": "markdown",
   "metadata": {},
   "source": [
    "## Conclusion"
   ]
  },
  {
   "cell_type": "raw",
   "metadata": {},
   "source": [
    "Ainsi, nous avons vu que la précision \"accuracy\" de GBoost est d’environ 89,28% et que le score de variance est de 0,87, ce qui est très proche de 1. \n",
    "Par conséquent, on en déduit que le Gradient Boosting est le modèle approprié pour cet ensemble de données.\n",
    "\n",
    "De plus, nous pouvons également effectuer une optimisation du modèle en utilisant GridSearch pour trouver les paramètres appropriés pour augmenter la précision en réglant avec précision les hyperparamètres.\n",
    "\n",
    "Place à XGboost!!!!\n"
   ]
  },
  {
   "cell_type": "markdown",
   "metadata": {},
   "source": [
    "## XGBoostRegressor"
   ]
  },
  {
   "cell_type": "code",
   "execution_count": 23,
   "metadata": {},
   "outputs": [],
   "source": [
    "# from xgboost import XGBRegressor, plot_importance # XGBoost\n",
    "\n",
    "# start = time()\n",
    "\n",
    "# xgb = XGBRegressor(n_estimators=10, learning_rate=0.08, gamma=0,\n",
    "#                    subsample=0.75, colsample_bytree=1, max_depth=7)\n",
    "\n",
    "# xgb.fit(X_train, y_train)\n",
    "\n",
    "# end=time()\n",
    "# train_time_xgb=end-start\n",
    "\n",
    "# xgboost=xgb.score(X_test,y_test)\n",
    "# pred_xgb = xgb.predict(X_test)\n",
    "# exp_xgb = explained_variance_score(y_test,pred)"
   ]
  },
  {
   "cell_type": "markdown",
   "metadata": {},
   "source": [
    "## Paramétres optimaux des modéles"
   ]
  },
  {
   "cell_type": "code",
   "execution_count": 24,
   "metadata": {},
   "outputs": [],
   "source": [
    "from sklearn.model_selection import GridSearchCV"
   ]
  },
  {
   "cell_type": "markdown",
   "metadata": {},
   "source": [
    "### 1. GradientBoostingRegressor"
   ]
  },
  {
   "cell_type": "code",
   "execution_count": 25,
   "metadata": {
    "scrolled": true
   },
   "outputs": [],
   "source": [
    "# start = time()\n",
    "\n",
    "# parameters = {\n",
    "#     \"loss\":[\"ls\"],\n",
    "#     \"learning_rate\": [0.01, 0.05, 0.1],\n",
    "#     \"min_samples_leaf\": np.linspace(0.05, 0.01, 3),\n",
    "#     \"max_depth\":[3, 5, 8],\n",
    "#     \"max_features\":[\"log2\",\"sqrt\"],\n",
    "#     \"criterion\": [\"friedman_mse\"],\n",
    "#     \"subsample\":[0.5, 0.75, 1.0],\n",
    "#     \"n_estimators\":[10, 20,50, 100, 200, 400],\n",
    "#     }\n",
    "\n",
    "# clf_GB = GridSearchCV(GradientBoostingRegressor(), parameters, cv=5, n_jobs=-1,verbose=10)\n",
    "\n",
    "# clf_GB.fit(X_train, y_train)\n",
    "\n",
    "# end=time()\n",
    "# train_time_g=end-start\n",
    "\n",
    "# print(\"Train: \",clf_GB.score(X_train, y_train))\n",
    "# print(\"Test: \",clf_GB.score(X_test, y_test))\n",
    "# print(\"\\n\")\n",
    "# print(clf_GB.best_params_)"
   ]
  },
  {
   "cell_type": "markdown",
   "metadata": {},
   "source": [
    "### 2. RandomForestRegressor"
   ]
  },
  {
   "cell_type": "code",
   "execution_count": 26,
   "metadata": {},
   "outputs": [],
   "source": [
    "# start = time()\n",
    "\n",
    "# parameters = {\n",
    "#     \"max_depth\":[3, 5, 8],\n",
    "#     \"max_features\":[\"auto\",\"sqrt\"],\n",
    "#     \"criterion\" : [\"mse\"],\n",
    "#     \"n_estimators\":[10, 50, 100, 200, 400]\n",
    "#     }\n",
    "\n",
    "# clf_RF = GridSearchCV(RandomForestRegressor(), parameters, cv=5, n_jobs=-1,verbose=20)\n",
    "\n",
    "# clf_RF.fit(X_train, y_train)\n",
    "\n",
    "# end=time()\n",
    "# train_time_rand=end-start\n",
    "\n",
    "# print(\"Train: \",clf_RF.score(X_train, y_train))\n",
    "# print(\"Test: \",clf_RF.score(X_test, y_test))\n",
    "# print(\"\\n\")\n",
    "# print(clf_RF.best_params_)"
   ]
  },
  {
   "cell_type": "markdown",
   "metadata": {},
   "source": [
    "### 3. DecisionTreeRegressor "
   ]
  },
  {
   "cell_type": "code",
   "execution_count": 40,
   "metadata": {},
   "outputs": [
    {
     "name": "stdout",
     "output_type": "stream",
     "text": [
      "Fitting 5 folds for each of 144 candidates, totalling 720 fits\n"
     ]
    },
    {
     "name": "stderr",
     "output_type": "stream",
     "text": [
      "[Parallel(n_jobs=-1)]: Using backend LokyBackend with 4 concurrent workers.\n",
      "[Parallel(n_jobs=-1)]: Done   5 tasks      | elapsed:    9.7s\n",
      "[Parallel(n_jobs=-1)]: Done  10 tasks      | elapsed:    9.9s\n",
      "[Parallel(n_jobs=-1)]: Done  17 tasks      | elapsed:   10.1s\n",
      "[Parallel(n_jobs=-1)]: Done  24 tasks      | elapsed:   10.3s\n",
      "[Parallel(n_jobs=-1)]: Done  33 tasks      | elapsed:   10.6s\n",
      "[Parallel(n_jobs=-1)]: Done  42 tasks      | elapsed:   11.0s\n",
      "[Parallel(n_jobs=-1)]: Done  53 tasks      | elapsed:   11.4s\n",
      "[Parallel(n_jobs=-1)]: Done  64 tasks      | elapsed:   11.6s\n",
      "[Parallel(n_jobs=-1)]: Done  77 tasks      | elapsed:   12.1s\n",
      "[Parallel(n_jobs=-1)]: Batch computation too fast (0.1981s.) Setting batch_size=2.\n",
      "[Parallel(n_jobs=-1)]: Done  90 tasks      | elapsed:   12.4s\n",
      "[Parallel(n_jobs=-1)]: Done 119 tasks      | elapsed:   12.9s\n",
      "[Parallel(n_jobs=-1)]: Done 149 tasks      | elapsed:   14.2s\n",
      "[Parallel(n_jobs=-1)]: Done 183 tasks      | elapsed:   15.4s\n",
      "[Parallel(n_jobs=-1)]: Done 217 tasks      | elapsed:   16.2s\n",
      "[Parallel(n_jobs=-1)]: Done 255 tasks      | elapsed:   17.7s\n",
      "[Parallel(n_jobs=-1)]: Done 293 tasks      | elapsed:   19.7s\n",
      "[Parallel(n_jobs=-1)]: Done 335 tasks      | elapsed:   20.8s\n",
      "[Parallel(n_jobs=-1)]: Batch computation too slow (4.7205s.) Setting batch_size=1.\n",
      "[Parallel(n_jobs=-1)]: Done 376 tasks      | elapsed:  1.8min\n",
      "[Parallel(n_jobs=-1)]: Done 399 tasks      | elapsed:  3.8min\n",
      "[Parallel(n_jobs=-1)]: Done 422 tasks      | elapsed:  5.6min\n",
      "[Parallel(n_jobs=-1)]: Done 447 tasks      | elapsed:  6.1min\n",
      "[Parallel(n_jobs=-1)]: Done 472 tasks      | elapsed:  6.7min\n",
      "[Parallel(n_jobs=-1)]: Done 499 tasks      | elapsed:  9.0min\n",
      "[Parallel(n_jobs=-1)]: Done 526 tasks      | elapsed: 12.6min\n",
      "[Parallel(n_jobs=-1)]: Done 555 tasks      | elapsed: 14.6min\n",
      "[Parallel(n_jobs=-1)]: Done 584 tasks      | elapsed: 15.5min\n",
      "[Parallel(n_jobs=-1)]: Done 615 tasks      | elapsed: 17.9min\n",
      "[Parallel(n_jobs=-1)]: Done 646 tasks      | elapsed: 21.7min\n",
      "[Parallel(n_jobs=-1)]: Done 679 tasks      | elapsed: 23.8min\n",
      "[Parallel(n_jobs=-1)]: Done 712 tasks      | elapsed: 24.7min\n",
      "[Parallel(n_jobs=-1)]: Done 720 out of 720 | elapsed: 24.9min finished\n"
     ]
    },
    {
     "name": "stdout",
     "output_type": "stream",
     "text": [
      "Train:  0.8220157513976776\n",
      "Test:  0.7505176801569009\n",
      "\n",
      "\n",
      "{'criterion': 'mse', 'max_depth': 8, 'max_features': 1.0, 'min_samples_leaf': 0.001, 'min_samples_split': 2}\n"
     ]
    }
   ],
   "source": [
    "# from sklearn.tree  import DecisionTreeRegressor\n",
    "\n",
    "# start = time()\n",
    "\n",
    "# parameters = {\n",
    "#     \"criterion\": [\"mse\", \"mae\"],\n",
    "#     \"max_depth\":[3, 5, 8],\n",
    "#     \"min_samples_split\": [2, 0.001, 0.005],\n",
    "#     \"min_samples_leaf\": [0.001, 0.005, 0.01, 0.01],\n",
    "#     \"max_features\": [1., \"sqrt\"]\n",
    "#     }\n",
    "\n",
    "# clf_DT = GridSearchCV(DecisionTreeRegressor(), parameters, cv=5, n_jobs=-1,verbose=10)\n",
    "\n",
    "# clf_DT.fit(X_train, y_train)\n",
    "\n",
    "# end=time()\n",
    "# train_time_dec=end-start\n",
    "\n",
    "# print(\"Train: \",clf_DT.score(X_train, y_train))\n",
    "# print(\"Test: \",clf_DT.score(X_test, y_test))\n",
    "# print(\"\\n\")\n",
    "# print(clf_DT.best_params_)"
   ]
  },
  {
   "cell_type": "markdown",
   "metadata": {},
   "source": [
    "### 4.XGBoostRegressor"
   ]
  },
  {
   "cell_type": "code",
   "execution_count": 28,
   "metadata": {
    "scrolled": true
   },
   "outputs": [],
   "source": [
    "# start = time()\n",
    "\n",
    "# parameters = {\n",
    "#     \"learning_rate\": [0.01, 0.05, 0.1],\n",
    "#     \"max_depth\":[3, 5, 8],\n",
    "#     \"subsample\":[0.5, 1.0],\n",
    "#     \"colsample_bytree\": [0.5, 1.0],\n",
    "#     \"n_estimators\":[10, 100, 200, 400],\n",
    "#     }\n",
    "\n",
    "# clf_XGB = GridSearchCV(XGBRegressor(), parameters, cv=5, n_jobs=-1,verbose=10)\n",
    "\n",
    "# clf_XGB.fit(X_train, y_train)\n",
    "\n",
    "# end=time()\n",
    "# train_time_xgb=end-start\n",
    "\n",
    "# print(\"Train: \",clf_XGB.score(X_train, y_train))\n",
    "# print(\"Test: \",clf_XGB.score(X_test, y_test))\n",
    "# print(\"\\n\")\n",
    "# print(clf_XGB.best_params_)"
   ]
  },
  {
   "cell_type": "markdown",
   "metadata": {},
   "source": [
    "### Conclusion"
   ]
  },
  {
   "cell_type": "code",
   "execution_count": 29,
   "metadata": {},
   "outputs": [],
   "source": [
    "# model = ['XGBoost','GBoost', 'Random forest','Decision Tree']\n",
    "# Train_Time = [\n",
    "#     train_time_xgb/60,\n",
    "#     train_time_g/60,\n",
    "#     train_time_rand/60,\n",
    "#     train_time_dec/60\n",
    "# ]\n",
    "\n",
    "# index = np.arange(len(model))\n",
    "# plt.bar(index, Train_Time)\n",
    "# plt.xlabel('Machine Learning Models', fontsize=15)\n",
    "# plt.ylabel('Training Time(minutes)', fontsize=15)\n",
    "# plt.xticks(index, model, fontsize=10, )\n",
    "# plt.title('Comparison of Training Time of all ML models  with GridSearchCV')\n",
    "# plt.show()"
   ]
  },
  {
   "cell_type": "code",
   "execution_count": 41,
   "metadata": {},
   "outputs": [
    {
     "data": {
      "text/plain": [
       "['/home/malick/Bureau/Stage_Projet_RTS/confluence-JDD/house/models/clf_DT']"
      ]
     },
     "execution_count": 41,
     "metadata": {},
     "output_type": "execute_result"
    }
   ],
   "source": [
    "#save modele\n",
    "#from sklearn.externals import joblib\n",
    "\n",
    "#file = \"/home/malick/Bureau/Stage_Projet_RTS/confluence-JDD/house/models\"\n",
    "\n",
    "#joblib.dump(clf_DT.best_estimator_, file + \"/clf_DT\", compress = 1)\n",
    "#joblib.dump(clf_RF.best_estimator_, file + \"/clf_RF\", compress = 1)\n",
    "#joblib.dump(clf_GB.best_estimator_, file + \"/clf_GB\", compress = 1)\n",
    "#joblib.dump(clf_XGB.best_estimator_, file + \"/clf_XGB\", compress = 1)"
   ]
  },
  {
   "cell_type": "code",
   "execution_count": 42,
   "metadata": {},
   "outputs": [
    {
     "name": "stdout",
     "output_type": "stream",
     "text": [
      "[12:17:01] WARNING: /workspace/src/objective/regression_obj.cu:152: reg:linear is now deprecated in favor of reg:squarederror.\n"
     ]
    }
   ],
   "source": [
    "#load models\n",
    "from sklearn.externals import joblib\n",
    "\n",
    "file = \"/home/malick/Bureau/Stage_Projet_RTS/confluence-JDD/house/models\"\n",
    "\n",
    "clf_DT = joblib.load(file + \"/clf_DT\") \n",
    "clf_GB = joblib.load(file + \"/clf_GB\")\n",
    "clf_XGB = joblib.load(file + \"/clf_XGB\") \n",
    "clf_RF = joblib.load(file + \"/clf_RF\") "
   ]
  },
  {
   "cell_type": "code",
   "execution_count": 43,
   "metadata": {},
   "outputs": [
    {
     "data": {
      "text/html": [
       "<div>\n",
       "<style scoped>\n",
       "    .dataframe tbody tr th:only-of-type {\n",
       "        vertical-align: middle;\n",
       "    }\n",
       "\n",
       "    .dataframe tbody tr th {\n",
       "        vertical-align: top;\n",
       "    }\n",
       "\n",
       "    .dataframe thead th {\n",
       "        text-align: right;\n",
       "    }\n",
       "</style>\n",
       "<table border=\"1\" class=\"dataframe\">\n",
       "  <thead>\n",
       "    <tr style=\"text-align: right;\">\n",
       "      <th></th>\n",
       "      <th>Model</th>\n",
       "      <th>Score</th>\n",
       "      <th>Variance_Score</th>\n",
       "      <th>R2_score_adj</th>\n",
       "      <th>MAE</th>\n",
       "      <th>RMSE</th>\n",
       "      <th>MedAE</th>\n",
       "      <th>Max_Error</th>\n",
       "    </tr>\n",
       "  </thead>\n",
       "  <tbody>\n",
       "    <tr>\n",
       "      <th>1</th>\n",
       "      <td>XGBoost</td>\n",
       "      <td>0.936152</td>\n",
       "      <td>0.928650</td>\n",
       "      <td>0.935975</td>\n",
       "      <td>54571.975726</td>\n",
       "      <td>92721.187763</td>\n",
       "      <td>35592.093750</td>\n",
       "      <td>2.823992e+06</td>\n",
       "    </tr>\n",
       "    <tr>\n",
       "      <th>0</th>\n",
       "      <td>Gradient Boosting</td>\n",
       "      <td>0.892265</td>\n",
       "      <td>0.871842</td>\n",
       "      <td>0.891965</td>\n",
       "      <td>64805.199371</td>\n",
       "      <td>120444.053890</td>\n",
       "      <td>38277.711699</td>\n",
       "      <td>3.788067e+06</td>\n",
       "    </tr>\n",
       "    <tr>\n",
       "      <th>2</th>\n",
       "      <td>Random Forest</td>\n",
       "      <td>0.880342</td>\n",
       "      <td>0.846547</td>\n",
       "      <td>0.880009</td>\n",
       "      <td>76239.684533</td>\n",
       "      <td>126933.732496</td>\n",
       "      <td>47370.263805</td>\n",
       "      <td>2.553667e+06</td>\n",
       "    </tr>\n",
       "    <tr>\n",
       "      <th>3</th>\n",
       "      <td>Decision Tree</td>\n",
       "      <td>0.750518</td>\n",
       "      <td>0.697373</td>\n",
       "      <td>0.749823</td>\n",
       "      <td>96556.356593</td>\n",
       "      <td>183284.755374</td>\n",
       "      <td>55428.569444</td>\n",
       "      <td>4.300702e+06</td>\n",
       "    </tr>\n",
       "  </tbody>\n",
       "</table>\n",
       "</div>"
      ],
      "text/plain": [
       "               Model     Score  Variance_Score  R2_score_adj           MAE  \\\n",
       "1            XGBoost  0.936152        0.928650      0.935975  54571.975726   \n",
       "0  Gradient Boosting  0.892265        0.871842      0.891965  64805.199371   \n",
       "2      Random Forest  0.880342        0.846547      0.880009  76239.684533   \n",
       "3      Decision Tree  0.750518        0.697373      0.749823  96556.356593   \n",
       "\n",
       "            RMSE         MedAE     Max_Error  \n",
       "1   92721.187763  35592.093750  2.823992e+06  \n",
       "0  120444.053890  38277.711699  3.788067e+06  \n",
       "2  126933.732496  47370.263805  2.553667e+06  \n",
       "3  183284.755374  55428.569444  4.300702e+06  "
      ]
     },
     "execution_count": 43,
     "metadata": {},
     "output_type": "execute_result"
    }
   ],
   "source": [
    "# Comparing Models on the basis of Model's Accuracy Score and Explained Variance Score of different models\n",
    "\n",
    "from sklearn.metrics import explained_variance_score, \\\n",
    "                            max_error, \\\n",
    "                            mean_absolute_error, \\\n",
    "                            mean_squared_error, \\\n",
    "                            median_absolute_error, \\\n",
    "                            r2_score\n",
    "\n",
    "dt = clf_DT.score(X_test, y_test)\n",
    "grad = clf_GB.score(X_test, y_test)\n",
    "xgrad = clf_XGB.score(X_test, y_test)\n",
    "rf = clf_RF.score(X_test, y_test)\n",
    "\n",
    "exp_dt = explained_variance_score(clf_DT.predict(X_test),y_test)\n",
    "exp_grad = explained_variance_score(clf_GB.predict(X_test),y_test)\n",
    "exp_xgrad = explained_variance_score(clf_XGB.predict(X_test),y_test)\n",
    "exp_rf = explained_variance_score(clf_RF.predict(X_test),y_test)\n",
    "\n",
    "max_dt = max_error(clf_DT.predict(X_test),y_test)\n",
    "max_grad = max_error(clf_GB.predict(X_test),y_test)\n",
    "max_xgrad = max_error(clf_XGB.predict(X_test),y_test)\n",
    "max_rf = max_error(clf_RF.predict(X_test),y_test)\n",
    "\n",
    "MAE_dt = mean_absolute_error(clf_DT.predict(X_test),y_test)\n",
    "MAE_grad = mean_absolute_error(clf_GB.predict(X_test),y_test)\n",
    "MAE_xgrad = mean_absolute_error(clf_XGB.predict(X_test),y_test)\n",
    "MAE_rf = mean_absolute_error(clf_RF.predict(X_test),y_test)\n",
    "\n",
    "RMSE_dt = mean_squared_error(clf_DT.predict(X_test),y_test)**0.5\n",
    "RMSE_grad = mean_squared_error(clf_GB.predict(X_test),y_test)**0.5\n",
    "RMSE_xgrad = mean_squared_error(clf_XGB.predict(X_test),y_test)**0.5\n",
    "RMSE_rf = mean_squared_error(clf_RF.predict(X_test),y_test)**0.5\n",
    "\n",
    "MedAE_dt = median_absolute_error(y_test, clf_DT.predict(X_test))\n",
    "MedAE_grad = median_absolute_error(y_test, clf_GB.predict(X_test))\n",
    "MedAE_xgrad = median_absolute_error(y_test, clf_XGB.predict(X_test))\n",
    "MedAE_rf = median_absolute_error(y_test, clf_RF.predict(X_test))\n",
    "\n",
    "def Adj(R2,n,p):\n",
    "    \"\"\"\n",
    "        fonction qui calcul le R2 ajusté\n",
    "        n: nombre de lignes\n",
    "        p: nombre de colonnes\n",
    "    \"\"\"\n",
    "    return 1-(1-R2)*(n-1)/(n-p-1)\n",
    "\n",
    "r2_score_adj_dt = Adj(r2_score(y_test, clf_DT.predict(X_test)),X_test.shape[0],X_test.shape[1])\n",
    "r2_score_adj_grad = Adj(r2_score(y_test, clf_GB.predict(X_test)),X_test.shape[0],X_test.shape[1])\n",
    "r2_score_adj_xgrad = Adj(r2_score(y_test, clf_XGB.predict(X_test)),X_test.shape[0],X_test.shape[1])\n",
    "r2_score_adj_rf = Adj(r2_score(y_test, clf_RF.predict(X_test)),X_test.shape[0],X_test.shape[1])\n",
    "\n",
    "models_cross = pd.DataFrame({\n",
    "    'Model': ['Gradient Boosting','XGBoost','Random Forest','Decision Tree'],\n",
    "    'Score': [grad,xgrad,rf,dt],\n",
    "    'Variance_Score': [exp_grad,exp_xgrad,exp_rf,exp_dt],\n",
    "    'R2_score_adj' : [r2_score_adj_grad,r2_score_adj_xgrad,r2_score_adj_rf,r2_score_adj_dt],\n",
    "    'MAE': [MAE_grad,MAE_xgrad,MAE_rf,MAE_dt],\n",
    "    'RMSE' : [RMSE_grad, RMSE_xgrad, RMSE_rf, RMSE_dt],\n",
    "    'MedAE' : [MedAE_grad, MedAE_xgrad, MedAE_rf, MedAE_dt],\n",
    "    'Max_Error': [max_grad,max_xgrad,max_rf,max_dt]})\n",
    "    \n",
    "models_cross.sort_values(by='Score', ascending=False)"
   ]
  }
 ],
 "metadata": {
  "kernelspec": {
   "display_name": "Python 3",
   "language": "python",
   "name": "python3"
  },
  "language_info": {
   "codemirror_mode": {
    "name": "ipython",
    "version": 3
   },
   "file_extension": ".py",
   "mimetype": "text/x-python",
   "name": "python",
   "nbconvert_exporter": "python",
   "pygments_lexer": "ipython3",
   "version": "3.6.8"
  }
 },
 "nbformat": 4,
 "nbformat_minor": 2
}
